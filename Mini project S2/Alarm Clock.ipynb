{
 "cells": [
  {
   "cell_type": "code",
   "execution_count": null,
   "id": "b909cbc4-16f7-4b8c-901c-6aa4cf9ea43b",
   "metadata": {},
   "outputs": [],
   "source": [
    "import tkinter as tk\n",
    "import time \n",
    "import winsound \n",
    "\n",
    "def set_alarm():\n",
    "    alarm_time=entry.get()\n",
    "    while True:\n",
    "        current_time=time.strftime(\"%H:%M:%S\")\n",
    "        if current_time==alarm_time:\n",
    "            label.config(text=\"alarm\")\n",
    "            winsound.Beep(2000,5000)\n",
    "            break\n",
    "def close_window():\n",
    "    root.destroy()\n",
    "    \n",
    "root=tk.Tk()\n",
    "root.title(\"SIMPLE ALARM CLOCK\")\n",
    "\n",
    "label=tk.Label(root,text=\"ENTER ALARM TIME (HH:MM:SS)\")\n",
    "label.pack()\n",
    "\n",
    "entry=tk.Entry(root)\n",
    "entry.pack()\n",
    "\n",
    "button=tk.Button(root,text=\"set alarm\",command=set_alarm)\n",
    "button.pack()\n",
    "\n",
    "close_button=tk.Button(root,text=\"close\",command=close_window)\n",
    "close_button.pack()\n",
    "\n",
    "root.mainloop()\n"
   ]
  },
  {
   "cell_type": "code",
   "execution_count": null,
   "id": "4ead0701-e8ae-4073-b03a-2352b878de78",
   "metadata": {},
   "outputs": [],
   "source": []
  }
 ],
 "metadata": {
  "kernelspec": {
   "display_name": "Python 3 (ipykernel)",
   "language": "python",
   "name": "python3"
  },
  "language_info": {
   "codemirror_mode": {
    "name": "ipython",
    "version": 3
   },
   "file_extension": ".py",
   "mimetype": "text/x-python",
   "name": "python",
   "nbconvert_exporter": "python",
   "pygments_lexer": "ipython3",
   "version": "3.12.3"
  }
 },
 "nbformat": 4,
 "nbformat_minor": 5
}
